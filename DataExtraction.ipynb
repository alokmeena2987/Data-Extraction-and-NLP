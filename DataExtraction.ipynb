{
 "cells": [
  {
   "cell_type": "code",
   "execution_count": 12,
   "metadata": {},
   "outputs": [],
   "source": [
    "import pandas as pd\n",
    "import requests\n",
    "from bs4 import BeautifulSoup\n",
    "import nltk\n",
    "from nltk.corpus import stopwords\n",
    "from nltk.tokenize import word_tokenize, sent_tokenize\n",
    "from nltk.sentiment.vader import SentimentIntensityAnalyzer\n",
    "import logging\n",
    "\n",
    "# Read the input data from \"Input.xlsx\"\n",
    "input_data = pd.read_excel('Input.xlsx')\n"
   ]
  },
  {
   "cell_type": "code",
   "execution_count": 13,
   "metadata": {},
   "outputs": [],
   "source": [
    "import newspaper\n",
    "\n",
    "def extract_article_text(url):\n",
    "    try:\n",
    "        article = newspaper.Article(url)\n",
    "        article.download()\n",
    "        article.parse()\n",
    "\n",
    "        # Extract the article title and text\n",
    "        article_title = article.title\n",
    "        article_text = article.text.strip()\n",
    "\n",
    "        return article_title, article_text\n",
    "\n",
    "    except Exception as e:\n",
    "        logging.warning(f\"Failed to extract text for URL: {url}\")\n",
    "        return \"\", \"\""
   ]
  },
  {
   "cell_type": "code",
   "execution_count": 14,
   "metadata": {},
   "outputs": [
    {
     "name": "stderr",
     "output_type": "stream",
     "text": [
      "WARNING:root:Failed to extract text for URL: https://insights.blackcoffer.com/how-neural-networks-can-be-applied-in-various-areas-in-the-future/\n",
      "WARNING:root:Failed to extract text for URL: https://insights.blackcoffer.com/covid-19-environmental-impact-for-the-future/\n"
     ]
    },
    {
     "name": "stdout",
     "output_type": "stream",
     "text": [
      "Data extraction and saving completed.\n"
     ]
    }
   ],
   "source": [
    "# Loop through each URL and extract article text, then save it as a text file\n",
    "for index, row in input_data.iterrows():\n",
    "    url_id = row['URL_ID']\n",
    "    url = row['URL']\n",
    "\n",
    "    article_title, article_text = extract_article_text(url)\n",
    "\n",
    "    # Save the extracted article text to a text file with URL_ID as its file name\n",
    "    with open(f'{url_id}.txt', 'w', encoding='utf-8') as file:\n",
    "        file.write(f'{article_title}\\n\\n{article_text}')\n",
    "\n",
    "print(\"Data extraction and saving completed.\")"
   ]
  }
 ],
 "metadata": {
  "kernelspec": {
   "display_name": "Python 3",
   "language": "python",
   "name": "python3"
  },
  "language_info": {
   "codemirror_mode": {
    "name": "ipython",
    "version": 3
   },
   "file_extension": ".py",
   "mimetype": "text/x-python",
   "name": "python",
   "nbconvert_exporter": "python",
   "pygments_lexer": "ipython3",
   "version": "3.11.1"
  },
  "orig_nbformat": 4
 },
 "nbformat": 4,
 "nbformat_minor": 2
}
