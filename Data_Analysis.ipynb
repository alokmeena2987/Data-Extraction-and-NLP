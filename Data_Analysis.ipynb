{
 "cells": [
  {
   "cell_type": "code",
   "execution_count": 1,
   "metadata": {},
   "outputs": [],
   "source": [
    "import pandas as pd\n",
    "import os\n",
    "import re\n",
    "import nltk\n",
    "from nltk.tokenize import word_tokenize, sent_tokenize"
   ]
  },
  {
   "cell_type": "code",
   "execution_count": 2,
   "metadata": {},
   "outputs": [],
   "source": [
    "def count_syllables(word):\n",
    "    vowels = 'aeiou'\n",
    "    word = word.lower()\n",
    "    count = 0\n",
    "    if word[0] in vowels:\n",
    "        count += 1\n",
    "    for index in range(1, len(word)):\n",
    "        if word[index] in vowels and word[index - 1] not in vowels:\n",
    "            count += 1\n",
    "    if word.endswith('e'):\n",
    "        count -= 1\n",
    "    if word.endswith('le') and len(word) > 2 and word[-3] not in vowels:\n",
    "        count += 1\n",
    "    return max(count, 1)\n"
   ]
  },
  {
   "cell_type": "code",
   "execution_count": 3,
   "metadata": {},
   "outputs": [],
   "source": [
    "def complex_word_percentage(text, stopwords):\n",
    "    words = word_tokenize(text)\n",
    "    word_count = len(words)\n",
    "    complex_word_count = sum(1 for word in words if count_syllables(word) > 2 and word.lower() not in stopwords)\n",
    "    return (complex_word_count / word_count) * 100"
   ]
  },
  {
   "cell_type": "code",
   "execution_count": 4,
   "metadata": {},
   "outputs": [],
   "source": [
    "def fog_index(average_sentence_length, complex_word_percentage):\n",
    "    return 0.4 * (average_sentence_length + complex_word_percentage)"
   ]
  },
  {
   "cell_type": "code",
   "execution_count": 5,
   "metadata": {},
   "outputs": [],
   "source": [
    "def sentimental_analysis(text, positive_words, negative_words, stopwords):\n",
    "    words = word_tokenize(text)\n",
    "    positive_score = sum(1 for word in words if word.lower() in positive_words and word.lower() not in stopwords)\n",
    "    negative_score = sum(1 for word in words if word.lower() in negative_words and word.lower() not in stopwords)\n",
    "    polarity_score = (positive_score - negative_score) / ((positive_score + negative_score) + 0.000001)\n",
    "    subjectivity_score = (positive_score + negative_score) / (len(words) + 0.000001)\n",
    "    return positive_score, negative_score, polarity_score, subjectivity_score\n"
   ]
  },
  {
   "cell_type": "code",
   "execution_count": 6,
   "metadata": {},
   "outputs": [],
   "source": [
    "input_df = pd.read_excel(\"Input.xlsx\")\n",
    "\n",
    "\n",
    "positive_words = set(open(\"MasterDictionary/positive-words.txt\").read().splitlines())\n",
    "negative_words = set(open(\"MasterDictionary/negative-words.txt\").read().splitlines())\n"
   ]
  },
  {
   "cell_type": "code",
   "execution_count": 7,
   "metadata": {},
   "outputs": [
    {
     "name": "stderr",
     "output_type": "stream",
     "text": [
      "[nltk_data] Downloading package punkt to C:\\Users\\Alok\n",
      "[nltk_data]     Meena\\AppData\\Roaming\\nltk_data...\n",
      "[nltk_data]   Package punkt is already up-to-date!\n",
      "[nltk_data] Downloading package stopwords to C:\\Users\\Alok\n",
      "[nltk_data]     Meena\\AppData\\Roaming\\nltk_data...\n",
      "[nltk_data]   Package stopwords is already up-to-date!\n"
     ]
    }
   ],
   "source": [
    "nltk.download('punkt')\n",
    "nltk.download('stopwords')\n",
    "stopwords = set(nltk.corpus.stopwords.words('English'))"
   ]
  },
  {
   "cell_type": "code",
   "execution_count": 8,
   "metadata": {},
   "outputs": [],
   "source": [
    "output_data = []"
   ]
  },
  {
   "cell_type": "code",
   "execution_count": 9,
   "metadata": {},
   "outputs": [],
   "source": [
    "for _, row in input_df.iterrows():\n",
    "    url_id = row['URL_ID']\n",
    "    file_path = os.path.join(\"articles\", f\"{url_id}.txt\")\n",
    "\n",
    "    with open(file_path, 'r', encoding='utf-8') as file:\n",
    "        article_text = file.read()\n",
    "\n",
    "    # Sentimental \n",
    "    positive_score, negative_score, polarity_score, subjectivity_score = sentimental_analysis(article_text,\n",
    "                                                                                                positive_words,\n",
    "                                                                                                negative_words,\n",
    "                                                                                                stopwords)\n",
    "\n",
    "    # Readability\n",
    "    sentences = sent_tokenize(article_text)\n",
    "    total_words = len(word_tokenize(article_text))\n",
    "    total_sentences = len(sentences)\n",
    "\n",
    "    # zero case for average_sentence_length and average_words_per_sentence\n",
    "\n",
    "    if total_sentences == 0:\n",
    "        average_sentence_length = 0\n",
    "        average_words_per_sentence = 0\n",
    "    else:\n",
    "        average_sentence_length = total_words / total_sentences\n",
    "        average_words_per_sentence = total_words / total_sentences\n",
    "\n",
    "    # zero case for complex_word_percentage\n",
    "\n",
    "    if total_words == 0:\n",
    "        percentage_complex_words = 0\n",
    "    else:\n",
    "        percentage_complex_words = complex_word_percentage(article_text, stopwords)\n",
    "\n",
    "    fog_index_score = fog_index(average_sentence_length, percentage_complex_words)\n",
    "\n",
    "    # Complex Word Count\n",
    "\n",
    "    complex_word_count = sum(1 for word in word_tokenize(article_text) if count_syllables(word) > 2)\n",
    "\n",
    "    # Word Count\n",
    "\n",
    "    word_count = len(re.findall(r'\\b\\w+\\b', article_text))\n",
    "\n",
    "    # zero case for syllable_per_word\n",
    "\n",
    "    if word_count == 0:\n",
    "        syllable_per_word = 0\n",
    "    else:\n",
    "        total_syllables = sum(count_syllables(word) for word in word_tokenize(article_text))\n",
    "        syllable_per_word = total_syllables / word_count\n",
    "\n",
    "    # Personal Pronouns\n",
    "\n",
    "    personal_pronouns_count = len(re.findall(r'\\b(I|we|my|ours|us)\\b', article_text, flags=re.IGNORECASE))\n",
    "\n",
    "    # zero case for average_word_length\n",
    "    \n",
    "    if len(word_tokenize(article_text)) == 0:\n",
    "        average_word_length = 0\n",
    "    else:\n",
    "        words = word_tokenize(article_text)\n",
    "        total_characters = sum(len(word) for word in words)\n",
    "        average_word_length = total_characters / len(words)\n",
    "\n",
    "\n",
    "\n",
    "\n",
    "    output_data.append([url_id, positive_score, negative_score, polarity_score, subjectivity_score,\n",
    "                        average_sentence_length, percentage_complex_words, fog_index_score,\n",
    "                        average_words_per_sentence, complex_word_count, word_count,\n",
    "                        syllable_per_word, personal_pronouns_count, average_word_length])\n",
    "\n",
    "\n",
    "\n",
    "\n",
    "\n",
    "output_df = pd.DataFrame(output_data, columns=['URL_ID', 'POSITIVE SCORE', 'NEGATIVE SCORE', 'POLARITY SCORE',\n",
    "                                               'SUBJECTIVITY SCORE', 'AVG SENTENCE LENGTH', 'PERCENTAGE OF COMPLEX WORDS',\n",
    "                                               'FOG INDEX', 'AVG NUMBER OF WORDS PER SENTENCE', 'COMPLEX WORD COUNT',\n",
    "                                               'WORD COUNT', 'SYLLABLE PER WORD', 'PERSONAL PRONOUNS',\n",
    "                                               'AVG WORD LENGTH'])\n"
   ]
  },
  {
   "cell_type": "code",
   "execution_count": null,
   "metadata": {},
   "outputs": [],
   "source": [
    "output_df.to_excel(\"Output Data Structure.xlsx\", index=False)"
   ]
  },
  {
   "cell_type": "code",
   "execution_count": null,
   "metadata": {},
   "outputs": [],
   "source": []
  }
 ],
 "metadata": {
  "kernelspec": {
   "display_name": "Python 3",
   "language": "python",
   "name": "python3"
  },
  "language_info": {
   "codemirror_mode": {
    "name": "ipython",
    "version": 3
   },
   "file_extension": ".py",
   "mimetype": "text/x-python",
   "name": "python",
   "nbconvert_exporter": "python",
   "pygments_lexer": "ipython3",
   "version": "3.11.1"
  },
  "orig_nbformat": 4
 },
 "nbformat": 4,
 "nbformat_minor": 2
}
